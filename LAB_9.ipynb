{
 "cells": [
  {
   "cell_type": "code",
   "execution_count": null,
   "id": "e7093a23",
   "metadata": {},
   "outputs": [],
   "source": [
    "-- Q1 Create a table rentals_may to store the data from rental\n",
    "-- table with information for the month of May. \n",
    "-- #https://dev.mysql.com/doc/refman/8.0/en/create-table-select.html\n",
    "use sakila; -- to guratnee you are using the right schema \n",
    "Create table sakila.rentals_may like sakila.rental; \n",
    "\n",
    "-- insert into (table name)\n",
    "use sakila;\n",
    "insert into rentals_may\n",
    "select *\n",
    "from sakila.rental\n",
    "where date_format(rental_date,\"%b\") = \"May\"\n",
    "; \n"
   ]
  },
  {
   "cell_type": "code",
   "execution_count": null,
   "id": "63a95b98",
   "metadata": {},
   "outputs": [],
   "source": [
    "- Q2Create a table rentals_june to store the data from rental table \n",
    "-- with information for the month of June.\n",
    "create table sakila.rentals_june like sakila.rental; \n",
    "\n",
    "use sakila;\n",
    "insert into rentals_june\n",
    "select * \n",
    "from sakila.rental\n",
    "where date_format(rental_date,\"%b\")=\"Jun\" \n",
    "-- didnt work before because of the way you wrote the month \n",
    "-- have to write the abbreviated version \n",
    "; \n",
    "-- \n",
    "select * from sakila.rentals_june; \n",
    "\n",
    "-- Check the number of rentals for each customer for May. \n",
    "select * from sakila.rentals_may ; \n",
    "select customer_id,count(customer_id) as num_of_ren_by_cus\n",
    "from sakila.rentals_may\n",
    "group by customer_id;\n",
    "\n",
    "-- Check the number of rentals for each customer for June.\n",
    "select * from sakila.rentals_june ;\n",
    "select customer_id,count(customer_id) as num_of_ren_by_cus\n",
    "from sakila.rentals_june\n",
    "group by customer_id;"
   ]
  },
  {
   "cell_type": "code",
   "execution_count": null,
   "id": "669ec9f3",
   "metadata": {},
   "outputs": [],
   "source": [
    "pip install pymysql"
   ]
  },
  {
   "cell_type": "code",
   "execution_count": 3,
   "id": "6cb729c3",
   "metadata": {},
   "outputs": [
    {
     "name": "stdout",
     "output_type": "stream",
     "text": [
      "Requirement already satisfied: sqlalchemy in /Users/Bijou/opt/anaconda3/lib/python3.8/site-packages (1.4.7)\n",
      "Requirement already satisfied: greenlet!=0.4.17 in /Users/Bijou/opt/anaconda3/lib/python3.8/site-packages (from sqlalchemy) (1.0.0)\n",
      "Note: you may need to restart the kernel to use updated packages.\n"
     ]
    }
   ],
   "source": [
    "pip install sqlalchemy"
   ]
  },
  {
   "cell_type": "code",
   "execution_count": 1,
   "id": "b923f92b",
   "metadata": {},
   "outputs": [
    {
     "name": "stdout",
     "output_type": "stream",
     "text": [
      "········\n"
     ]
    }
   ],
   "source": [
    "from sqlalchemy import create_engine\n",
    "import pandas as pd\n",
    "import getpass  \n",
    "password = getpass.getpass()"
   ]
  },
  {
   "cell_type": "code",
   "execution_count": null,
   "id": "a20c23cd",
   "metadata": {},
   "outputs": [],
   "source": []
  },
  {
   "cell_type": "code",
   "execution_count": 2,
   "id": "329c414c",
   "metadata": {},
   "outputs": [
    {
     "data": {
      "text/html": [
       "<div>\n",
       "<style scoped>\n",
       "    .dataframe tbody tr th:only-of-type {\n",
       "        vertical-align: middle;\n",
       "    }\n",
       "\n",
       "    .dataframe tbody tr th {\n",
       "        vertical-align: top;\n",
       "    }\n",
       "\n",
       "    .dataframe thead th {\n",
       "        text-align: right;\n",
       "    }\n",
       "</style>\n",
       "<table border=\"1\" class=\"dataframe\">\n",
       "  <thead>\n",
       "    <tr style=\"text-align: right;\">\n",
       "      <th></th>\n",
       "      <th>rental_id</th>\n",
       "      <th>rental_date</th>\n",
       "      <th>inventory_id</th>\n",
       "      <th>customer_id</th>\n",
       "      <th>return_date</th>\n",
       "      <th>staff_id</th>\n",
       "      <th>last_update</th>\n",
       "    </tr>\n",
       "  </thead>\n",
       "  <tbody>\n",
       "    <tr>\n",
       "      <th>0</th>\n",
       "      <td>1</td>\n",
       "      <td>2005-05-24 22:53:30</td>\n",
       "      <td>367</td>\n",
       "      <td>130</td>\n",
       "      <td>2005-05-26 22:04:30</td>\n",
       "      <td>1</td>\n",
       "      <td>2006-02-15 21:30:53</td>\n",
       "    </tr>\n",
       "    <tr>\n",
       "      <th>1</th>\n",
       "      <td>2</td>\n",
       "      <td>2005-05-24 22:54:33</td>\n",
       "      <td>1525</td>\n",
       "      <td>459</td>\n",
       "      <td>2005-05-28 19:40:33</td>\n",
       "      <td>1</td>\n",
       "      <td>2006-02-15 21:30:53</td>\n",
       "    </tr>\n",
       "    <tr>\n",
       "      <th>2</th>\n",
       "      <td>3</td>\n",
       "      <td>2005-05-24 23:03:39</td>\n",
       "      <td>1711</td>\n",
       "      <td>408</td>\n",
       "      <td>2005-06-01 22:12:39</td>\n",
       "      <td>1</td>\n",
       "      <td>2006-02-15 21:30:53</td>\n",
       "    </tr>\n",
       "    <tr>\n",
       "      <th>3</th>\n",
       "      <td>4</td>\n",
       "      <td>2005-05-24 23:04:41</td>\n",
       "      <td>2452</td>\n",
       "      <td>333</td>\n",
       "      <td>2005-06-03 01:43:41</td>\n",
       "      <td>2</td>\n",
       "      <td>2006-02-15 21:30:53</td>\n",
       "    </tr>\n",
       "    <tr>\n",
       "      <th>4</th>\n",
       "      <td>5</td>\n",
       "      <td>2005-05-24 23:05:21</td>\n",
       "      <td>2079</td>\n",
       "      <td>222</td>\n",
       "      <td>2005-06-02 04:33:21</td>\n",
       "      <td>1</td>\n",
       "      <td>2006-02-15 21:30:53</td>\n",
       "    </tr>\n",
       "  </tbody>\n",
       "</table>\n",
       "</div>"
      ],
      "text/plain": [
       "   rental_id         rental_date  inventory_id  customer_id  \\\n",
       "0          1 2005-05-24 22:53:30           367          130   \n",
       "1          2 2005-05-24 22:54:33          1525          459   \n",
       "2          3 2005-05-24 23:03:39          1711          408   \n",
       "3          4 2005-05-24 23:04:41          2452          333   \n",
       "4          5 2005-05-24 23:05:21          2079          222   \n",
       "\n",
       "          return_date  staff_id         last_update  \n",
       "0 2005-05-26 22:04:30         1 2006-02-15 21:30:53  \n",
       "1 2005-05-28 19:40:33         1 2006-02-15 21:30:53  \n",
       "2 2005-06-01 22:12:39         1 2006-02-15 21:30:53  \n",
       "3 2005-06-03 01:43:41         2 2006-02-15 21:30:53  \n",
       "4 2005-06-02 04:33:21         1 2006-02-15 21:30:53  "
      ]
     },
     "execution_count": 2,
     "metadata": {},
     "output_type": "execute_result"
    }
   ],
   "source": [
    "connection_string = 'mysql+pymysql://root:' + password + '@localhost/sakila'\n",
    "engine = create_engine(connection_string) \n",
    "data = pd.read_sql_query('SELECT * FROM sakila.rentals_may', engine) \n",
    "\n",
    "data.head()\n"
   ]
  },
  {
   "cell_type": "code",
   "execution_count": 6,
   "id": "0d566993",
   "metadata": {},
   "outputs": [
    {
     "data": {
      "text/html": [
       "<div>\n",
       "<style scoped>\n",
       "    .dataframe tbody tr th:only-of-type {\n",
       "        vertical-align: middle;\n",
       "    }\n",
       "\n",
       "    .dataframe tbody tr th {\n",
       "        vertical-align: top;\n",
       "    }\n",
       "\n",
       "    .dataframe thead th {\n",
       "        text-align: right;\n",
       "    }\n",
       "</style>\n",
       "<table border=\"1\" class=\"dataframe\">\n",
       "  <thead>\n",
       "    <tr style=\"text-align: right;\">\n",
       "      <th></th>\n",
       "      <th>rental_id</th>\n",
       "      <th>rental_date</th>\n",
       "      <th>inventory_id</th>\n",
       "      <th>customer_id</th>\n",
       "      <th>return_date</th>\n",
       "      <th>staff_id</th>\n",
       "      <th>last_update</th>\n",
       "    </tr>\n",
       "  </thead>\n",
       "  <tbody>\n",
       "    <tr>\n",
       "      <th>0</th>\n",
       "      <td>1158</td>\n",
       "      <td>2005-06-14 22:53:33</td>\n",
       "      <td>1632</td>\n",
       "      <td>416</td>\n",
       "      <td>2005-06-18 21:37:33</td>\n",
       "      <td>2</td>\n",
       "      <td>2006-02-15 21:30:53</td>\n",
       "    </tr>\n",
       "    <tr>\n",
       "      <th>1</th>\n",
       "      <td>1159</td>\n",
       "      <td>2005-06-14 22:55:13</td>\n",
       "      <td>4395</td>\n",
       "      <td>516</td>\n",
       "      <td>2005-06-17 02:11:13</td>\n",
       "      <td>1</td>\n",
       "      <td>2006-02-15 21:30:53</td>\n",
       "    </tr>\n",
       "    <tr>\n",
       "      <th>2</th>\n",
       "      <td>1160</td>\n",
       "      <td>2005-06-14 23:00:34</td>\n",
       "      <td>2795</td>\n",
       "      <td>239</td>\n",
       "      <td>2005-06-18 01:58:34</td>\n",
       "      <td>2</td>\n",
       "      <td>2006-02-15 21:30:53</td>\n",
       "    </tr>\n",
       "    <tr>\n",
       "      <th>3</th>\n",
       "      <td>1161</td>\n",
       "      <td>2005-06-14 23:07:08</td>\n",
       "      <td>1690</td>\n",
       "      <td>285</td>\n",
       "      <td>2005-06-21 17:12:08</td>\n",
       "      <td>1</td>\n",
       "      <td>2006-02-15 21:30:53</td>\n",
       "    </tr>\n",
       "    <tr>\n",
       "      <th>4</th>\n",
       "      <td>1162</td>\n",
       "      <td>2005-06-14 23:09:38</td>\n",
       "      <td>987</td>\n",
       "      <td>310</td>\n",
       "      <td>2005-06-23 22:00:38</td>\n",
       "      <td>1</td>\n",
       "      <td>2006-02-15 21:30:53</td>\n",
       "    </tr>\n",
       "  </tbody>\n",
       "</table>\n",
       "</div>"
      ],
      "text/plain": [
       "   rental_id         rental_date  inventory_id  customer_id  \\\n",
       "0       1158 2005-06-14 22:53:33          1632          416   \n",
       "1       1159 2005-06-14 22:55:13          4395          516   \n",
       "2       1160 2005-06-14 23:00:34          2795          239   \n",
       "3       1161 2005-06-14 23:07:08          1690          285   \n",
       "4       1162 2005-06-14 23:09:38           987          310   \n",
       "\n",
       "          return_date  staff_id         last_update  \n",
       "0 2005-06-18 21:37:33         2 2006-02-15 21:30:53  \n",
       "1 2005-06-17 02:11:13         1 2006-02-15 21:30:53  \n",
       "2 2005-06-18 01:58:34         2 2006-02-15 21:30:53  \n",
       "3 2005-06-21 17:12:08         1 2006-02-15 21:30:53  \n",
       "4 2005-06-23 22:00:38         1 2006-02-15 21:30:53  "
      ]
     },
     "execution_count": 6,
     "metadata": {},
     "output_type": "execute_result"
    }
   ],
   "source": [
    "connection_string = 'mysql+pymysql://root:' + password + '@localhost/sakila'\n",
    "engine = create_engine(connection_string) \n",
    "data = pd.read_sql_query('SELECT * FROM sakila.rentals_june', engine) \n",
    "\n",
    "data.head()"
   ]
  },
  {
   "cell_type": "code",
   "execution_count": null,
   "id": "9d4c1696",
   "metadata": {},
   "outputs": [],
   "source": [
    "#Check the number of rentals for each customer for May"
   ]
  },
  {
   "cell_type": "code",
   "execution_count": 4,
   "id": "89990ff5",
   "metadata": {},
   "outputs": [
    {
     "data": {
      "text/html": [
       "<div>\n",
       "<style scoped>\n",
       "    .dataframe tbody tr th:only-of-type {\n",
       "        vertical-align: middle;\n",
       "    }\n",
       "\n",
       "    .dataframe tbody tr th {\n",
       "        vertical-align: top;\n",
       "    }\n",
       "\n",
       "    .dataframe thead th {\n",
       "        text-align: right;\n",
       "    }\n",
       "</style>\n",
       "<table border=\"1\" class=\"dataframe\">\n",
       "  <thead>\n",
       "    <tr style=\"text-align: right;\">\n",
       "      <th></th>\n",
       "      <th>customer_id</th>\n",
       "      <th>num_of_ren_by_cus</th>\n",
       "    </tr>\n",
       "  </thead>\n",
       "  <tbody>\n",
       "    <tr>\n",
       "      <th>0</th>\n",
       "      <td>1</td>\n",
       "      <td>2</td>\n",
       "    </tr>\n",
       "    <tr>\n",
       "      <th>1</th>\n",
       "      <td>2</td>\n",
       "      <td>1</td>\n",
       "    </tr>\n",
       "    <tr>\n",
       "      <th>2</th>\n",
       "      <td>3</td>\n",
       "      <td>2</td>\n",
       "    </tr>\n",
       "    <tr>\n",
       "      <th>3</th>\n",
       "      <td>5</td>\n",
       "      <td>3</td>\n",
       "    </tr>\n",
       "    <tr>\n",
       "      <th>4</th>\n",
       "      <td>6</td>\n",
       "      <td>3</td>\n",
       "    </tr>\n",
       "  </tbody>\n",
       "</table>\n",
       "</div>"
      ],
      "text/plain": [
       "   customer_id  num_of_ren_by_cus\n",
       "0            1                  2\n",
       "1            2                  1\n",
       "2            3                  2\n",
       "3            5                  3\n",
       "4            6                  3"
      ]
     },
     "execution_count": 4,
     "metadata": {},
     "output_type": "execute_result"
    }
   ],
   "source": [
    "engine.execute(\"USE sakila\") \n",
    "#make query into a variable so you can simplify each query from then on so it isnt as messy \n",
    "query = '''select customer_id,count(customer_id) as num_of_ren_by_cus\n",
    "from sakila.rentals_may\n",
    "group by customer_id;'''\n",
    "    #you can use all the queries clauses you used in mysql in here \n",
    "    #you do have to format the querie so that python understands the sql syntax since sql does not care for spaces but python does \n",
    "    #you can also use query='''slkdjfldskjfljd''' to get around the backslash issue \n",
    "data = pd.read_sql_query(query, engine)\n",
    "data.head() "
   ]
  },
  {
   "cell_type": "code",
   "execution_count": null,
   "id": "c3cb1ddd",
   "metadata": {},
   "outputs": [],
   "source": [
    "#Check the number of rentals for each customer for June"
   ]
  },
  {
   "cell_type": "code",
   "execution_count": 7,
   "id": "99d2c85b",
   "metadata": {},
   "outputs": [
    {
     "data": {
      "text/html": [
       "<div>\n",
       "<style scoped>\n",
       "    .dataframe tbody tr th:only-of-type {\n",
       "        vertical-align: middle;\n",
       "    }\n",
       "\n",
       "    .dataframe tbody tr th {\n",
       "        vertical-align: top;\n",
       "    }\n",
       "\n",
       "    .dataframe thead th {\n",
       "        text-align: right;\n",
       "    }\n",
       "</style>\n",
       "<table border=\"1\" class=\"dataframe\">\n",
       "  <thead>\n",
       "    <tr style=\"text-align: right;\">\n",
       "      <th></th>\n",
       "      <th>customer_id</th>\n",
       "      <th>num_of_ren_by_cus</th>\n",
       "    </tr>\n",
       "  </thead>\n",
       "  <tbody>\n",
       "    <tr>\n",
       "      <th>0</th>\n",
       "      <td>1</td>\n",
       "      <td>7</td>\n",
       "    </tr>\n",
       "    <tr>\n",
       "      <th>1</th>\n",
       "      <td>2</td>\n",
       "      <td>1</td>\n",
       "    </tr>\n",
       "    <tr>\n",
       "      <th>2</th>\n",
       "      <td>3</td>\n",
       "      <td>4</td>\n",
       "    </tr>\n",
       "    <tr>\n",
       "      <th>3</th>\n",
       "      <td>4</td>\n",
       "      <td>6</td>\n",
       "    </tr>\n",
       "    <tr>\n",
       "      <th>4</th>\n",
       "      <td>5</td>\n",
       "      <td>5</td>\n",
       "    </tr>\n",
       "  </tbody>\n",
       "</table>\n",
       "</div>"
      ],
      "text/plain": [
       "   customer_id  num_of_ren_by_cus\n",
       "0            1                  7\n",
       "1            2                  1\n",
       "2            3                  4\n",
       "3            4                  6\n",
       "4            5                  5"
      ]
     },
     "execution_count": 7,
     "metadata": {},
     "output_type": "execute_result"
    }
   ],
   "source": [
    "engine.execute(\"USE sakila\") \n",
    "\n",
    "query = '''select customer_id,count(customer_id) as num_of_ren_by_cus\n",
    "from sakila.rentals_june\n",
    "group by customer_id;'''\n",
    "\n",
    "data = pd.read_sql_query(query, engine)\n",
    "data.head()"
   ]
  },
  {
   "cell_type": "code",
   "execution_count": 14,
   "id": "eeda42e8",
   "metadata": {},
   "outputs": [],
   "source": [
    "#CLASS ANSWEr??\n",
    "#query = '''select customer_id,count(customer_id) as num_of_ren_by_cus\n",
    "\n",
    "#from sakila.rentals_june\n",
    "#group by customer_id;''' \n",
    "#pd.read_sql(engine.execute(query),engine)"
   ]
  },
  {
   "cell_type": "code",
   "execution_count": null,
   "id": "68a090a0",
   "metadata": {},
   "outputs": [],
   "source": []
  },
  {
   "cell_type": "code",
   "execution_count": null,
   "id": "45ae1aa5",
   "metadata": {},
   "outputs": [],
   "source": [
    "#Write a function that checks if customer borrowed more or less films\n",
    "#in the month of June as compared to May."
   ]
  },
  {
   "cell_type": "code",
   "execution_count": null,
   "id": "0b22017f",
   "metadata": {},
   "outputs": [],
   "source": [
    "#Hint: For this part, you can create a join between the two dataframes \n",
    "#created before, using the merge function available for pandas dataframes.\n",
    "#Here is a link to the documentation for the merge function."
   ]
  },
  {
   "cell_type": "code",
   "execution_count": null,
   "id": "3e4afdd1",
   "metadata": {},
   "outputs": [],
   "source": [
    "for item "
   ]
  },
  {
   "cell_type": "code",
   "execution_count": 10,
   "id": "af8f4150",
   "metadata": {},
   "outputs": [],
   "source": [
    "data_may= pd.read_sql_query('select * from rentals_may',engine)\n",
    "data_june= pd.read_sql_query('select * from rentals_june',engine)"
   ]
  },
  {
   "cell_type": "code",
   "execution_count": 11,
   "id": "848b83b6",
   "metadata": {},
   "outputs": [
    {
     "data": {
      "text/html": [
       "<div>\n",
       "<style scoped>\n",
       "    .dataframe tbody tr th:only-of-type {\n",
       "        vertical-align: middle;\n",
       "    }\n",
       "\n",
       "    .dataframe tbody tr th {\n",
       "        vertical-align: top;\n",
       "    }\n",
       "\n",
       "    .dataframe thead th {\n",
       "        text-align: right;\n",
       "    }\n",
       "</style>\n",
       "<table border=\"1\" class=\"dataframe\">\n",
       "  <thead>\n",
       "    <tr style=\"text-align: right;\">\n",
       "      <th></th>\n",
       "      <th>rental_id</th>\n",
       "      <th>rental_date</th>\n",
       "      <th>inventory_id</th>\n",
       "      <th>customer_id</th>\n",
       "      <th>return_date</th>\n",
       "      <th>staff_id</th>\n",
       "      <th>last_update</th>\n",
       "    </tr>\n",
       "  </thead>\n",
       "  <tbody>\n",
       "    <tr>\n",
       "      <th>0</th>\n",
       "      <td>1</td>\n",
       "      <td>2005-05-24 22:53:30</td>\n",
       "      <td>367</td>\n",
       "      <td>130</td>\n",
       "      <td>2005-05-26 22:04:30</td>\n",
       "      <td>1</td>\n",
       "      <td>2006-02-15 21:30:53</td>\n",
       "    </tr>\n",
       "    <tr>\n",
       "      <th>1</th>\n",
       "      <td>2</td>\n",
       "      <td>2005-05-24 22:54:33</td>\n",
       "      <td>1525</td>\n",
       "      <td>459</td>\n",
       "      <td>2005-05-28 19:40:33</td>\n",
       "      <td>1</td>\n",
       "      <td>2006-02-15 21:30:53</td>\n",
       "    </tr>\n",
       "    <tr>\n",
       "      <th>2</th>\n",
       "      <td>3</td>\n",
       "      <td>2005-05-24 23:03:39</td>\n",
       "      <td>1711</td>\n",
       "      <td>408</td>\n",
       "      <td>2005-06-01 22:12:39</td>\n",
       "      <td>1</td>\n",
       "      <td>2006-02-15 21:30:53</td>\n",
       "    </tr>\n",
       "    <tr>\n",
       "      <th>3</th>\n",
       "      <td>4</td>\n",
       "      <td>2005-05-24 23:04:41</td>\n",
       "      <td>2452</td>\n",
       "      <td>333</td>\n",
       "      <td>2005-06-03 01:43:41</td>\n",
       "      <td>2</td>\n",
       "      <td>2006-02-15 21:30:53</td>\n",
       "    </tr>\n",
       "    <tr>\n",
       "      <th>4</th>\n",
       "      <td>5</td>\n",
       "      <td>2005-05-24 23:05:21</td>\n",
       "      <td>2079</td>\n",
       "      <td>222</td>\n",
       "      <td>2005-06-02 04:33:21</td>\n",
       "      <td>1</td>\n",
       "      <td>2006-02-15 21:30:53</td>\n",
       "    </tr>\n",
       "  </tbody>\n",
       "</table>\n",
       "</div>"
      ],
      "text/plain": [
       "   rental_id         rental_date  inventory_id  customer_id  \\\n",
       "0          1 2005-05-24 22:53:30           367          130   \n",
       "1          2 2005-05-24 22:54:33          1525          459   \n",
       "2          3 2005-05-24 23:03:39          1711          408   \n",
       "3          4 2005-05-24 23:04:41          2452          333   \n",
       "4          5 2005-05-24 23:05:21          2079          222   \n",
       "\n",
       "          return_date  staff_id         last_update  \n",
       "0 2005-05-26 22:04:30         1 2006-02-15 21:30:53  \n",
       "1 2005-05-28 19:40:33         1 2006-02-15 21:30:53  \n",
       "2 2005-06-01 22:12:39         1 2006-02-15 21:30:53  \n",
       "3 2005-06-03 01:43:41         2 2006-02-15 21:30:53  \n",
       "4 2005-06-02 04:33:21         1 2006-02-15 21:30:53  "
      ]
     },
     "execution_count": 11,
     "metadata": {},
     "output_type": "execute_result"
    }
   ],
   "source": [
    "data_may.head()"
   ]
  },
  {
   "cell_type": "code",
   "execution_count": 12,
   "id": "4116fdd3",
   "metadata": {},
   "outputs": [
    {
     "data": {
      "text/html": [
       "<div>\n",
       "<style scoped>\n",
       "    .dataframe tbody tr th:only-of-type {\n",
       "        vertical-align: middle;\n",
       "    }\n",
       "\n",
       "    .dataframe tbody tr th {\n",
       "        vertical-align: top;\n",
       "    }\n",
       "\n",
       "    .dataframe thead th {\n",
       "        text-align: right;\n",
       "    }\n",
       "</style>\n",
       "<table border=\"1\" class=\"dataframe\">\n",
       "  <thead>\n",
       "    <tr style=\"text-align: right;\">\n",
       "      <th></th>\n",
       "      <th>rental_id</th>\n",
       "      <th>rental_date</th>\n",
       "      <th>inventory_id</th>\n",
       "      <th>customer_id</th>\n",
       "      <th>return_date</th>\n",
       "      <th>staff_id</th>\n",
       "      <th>last_update</th>\n",
       "    </tr>\n",
       "  </thead>\n",
       "  <tbody>\n",
       "    <tr>\n",
       "      <th>0</th>\n",
       "      <td>1158</td>\n",
       "      <td>2005-06-14 22:53:33</td>\n",
       "      <td>1632</td>\n",
       "      <td>416</td>\n",
       "      <td>2005-06-18 21:37:33</td>\n",
       "      <td>2</td>\n",
       "      <td>2006-02-15 21:30:53</td>\n",
       "    </tr>\n",
       "    <tr>\n",
       "      <th>1</th>\n",
       "      <td>1159</td>\n",
       "      <td>2005-06-14 22:55:13</td>\n",
       "      <td>4395</td>\n",
       "      <td>516</td>\n",
       "      <td>2005-06-17 02:11:13</td>\n",
       "      <td>1</td>\n",
       "      <td>2006-02-15 21:30:53</td>\n",
       "    </tr>\n",
       "    <tr>\n",
       "      <th>2</th>\n",
       "      <td>1160</td>\n",
       "      <td>2005-06-14 23:00:34</td>\n",
       "      <td>2795</td>\n",
       "      <td>239</td>\n",
       "      <td>2005-06-18 01:58:34</td>\n",
       "      <td>2</td>\n",
       "      <td>2006-02-15 21:30:53</td>\n",
       "    </tr>\n",
       "    <tr>\n",
       "      <th>3</th>\n",
       "      <td>1161</td>\n",
       "      <td>2005-06-14 23:07:08</td>\n",
       "      <td>1690</td>\n",
       "      <td>285</td>\n",
       "      <td>2005-06-21 17:12:08</td>\n",
       "      <td>1</td>\n",
       "      <td>2006-02-15 21:30:53</td>\n",
       "    </tr>\n",
       "    <tr>\n",
       "      <th>4</th>\n",
       "      <td>1162</td>\n",
       "      <td>2005-06-14 23:09:38</td>\n",
       "      <td>987</td>\n",
       "      <td>310</td>\n",
       "      <td>2005-06-23 22:00:38</td>\n",
       "      <td>1</td>\n",
       "      <td>2006-02-15 21:30:53</td>\n",
       "    </tr>\n",
       "  </tbody>\n",
       "</table>\n",
       "</div>"
      ],
      "text/plain": [
       "   rental_id         rental_date  inventory_id  customer_id  \\\n",
       "0       1158 2005-06-14 22:53:33          1632          416   \n",
       "1       1159 2005-06-14 22:55:13          4395          516   \n",
       "2       1160 2005-06-14 23:00:34          2795          239   \n",
       "3       1161 2005-06-14 23:07:08          1690          285   \n",
       "4       1162 2005-06-14 23:09:38           987          310   \n",
       "\n",
       "          return_date  staff_id         last_update  \n",
       "0 2005-06-18 21:37:33         2 2006-02-15 21:30:53  \n",
       "1 2005-06-17 02:11:13         1 2006-02-15 21:30:53  \n",
       "2 2005-06-18 01:58:34         2 2006-02-15 21:30:53  \n",
       "3 2005-06-21 17:12:08         1 2006-02-15 21:30:53  \n",
       "4 2005-06-23 22:00:38         1 2006-02-15 21:30:53  "
      ]
     },
     "execution_count": 12,
     "metadata": {},
     "output_type": "execute_result"
    }
   ],
   "source": [
    "data_june.head()"
   ]
  },
  {
   "cell_type": "code",
   "execution_count": 20,
   "id": "0bc68bcc",
   "metadata": {},
   "outputs": [],
   "source": [
    "#putting the tables together \n",
    "#we want a right join because we want to focus on june \n",
    "data=data_may.merge(data_june, how='right',left_on='customer_id',right_on='customer_id' ) \n",
    "#name of the key you want to merge on \n",
    "#then tells you which will be places on the left and on the right  \n",
    "\n"
   ]
  },
  {
   "cell_type": "code",
   "execution_count": 22,
   "id": "7e3a1321",
   "metadata": {},
   "outputs": [],
   "source": [
    "data_filter = data[pd.isna(data['rental_id_x'])== True]"
   ]
  },
  {
   "cell_type": "code",
   "execution_count": 19,
   "id": "8ccaf7b8",
   "metadata": {},
   "outputs": [
    {
     "data": {
      "text/plain": [
       "rental_id_x       328\n",
       "rental_date_x     328\n",
       "inventory_id_x    328\n",
       "customer_id         0\n",
       "return_date_x     328\n",
       "staff_id_x        328\n",
       "last_update_x     328\n",
       "rental_id_y         0\n",
       "rental_date_y       0\n",
       "inventory_id_y      0\n",
       "return_date_y       0\n",
       "staff_id_y          0\n",
       "last_update_y       0\n",
       "dtype: int64"
      ]
     },
     "execution_count": 19,
     "metadata": {},
     "output_type": "execute_result"
    }
   ],
   "source": [
    "data.isna().sum()\n",
    "#where there are nulls it tells you where customers that ordered \n",
    "#in june and not in may"
   ]
  },
  {
   "cell_type": "code",
   "execution_count": 23,
   "id": "5c20cdc4",
   "metadata": {},
   "outputs": [
    {
     "data": {
      "text/plain": [
       "78"
      ]
     },
     "execution_count": 23,
     "metadata": {},
     "output_type": "execute_result"
    }
   ],
   "source": [
    "data_filter['customer_id'].nunique()"
   ]
  },
  {
   "cell_type": "code",
   "execution_count": null,
   "id": "e524e1a7",
   "metadata": {},
   "outputs": [],
   "source": [
    "query1= #check screen shots \n",
    "i would think you would type it into sql june \n",
    "greater than may and then only show thoes customers ?"
   ]
  },
  {
   "cell_type": "code",
   "execution_count": null,
   "id": "5cec4e22",
   "metadata": {},
   "outputs": [],
   "source": [
    "create a join between the tables with the filtered number of rental data "
   ]
  },
  {
   "cell_type": "code",
   "execution_count": null,
   "id": "2b381634",
   "metadata": {},
   "outputs": [],
   "source": [
    "save the filter query to a named variable by month \n",
    "june = query1 engine?"
   ]
  },
  {
   "cell_type": "code",
   "execution_count": null,
   "id": "96190829",
   "metadata": {},
   "outputs": [],
   "source": []
  }
 ],
 "metadata": {
  "kernelspec": {
   "display_name": "Python 3",
   "language": "python",
   "name": "python3"
  },
  "language_info": {
   "codemirror_mode": {
    "name": "ipython",
    "version": 3
   },
   "file_extension": ".py",
   "mimetype": "text/x-python",
   "name": "python",
   "nbconvert_exporter": "python",
   "pygments_lexer": "ipython3",
   "version": "3.8.8"
  }
 },
 "nbformat": 4,
 "nbformat_minor": 5
}
