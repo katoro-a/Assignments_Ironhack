{
 "cells": [
  {
   "cell_type": "markdown",
   "id": "877f76db",
   "metadata": {},
   "source": [
    "# PART 1"
   ]
  },
  {
   "cell_type": "markdown",
   "id": "fc7adbae",
   "metadata": {},
   "source": [
    "- state the null hypothesis \n",
    "    - H0: changing the power of the plasma beam has no effect on the etchig rate of the machine \n",
    "- state the alternative hypothesis  \n",
    "    - Ha: changing the power of the plasma beam has an effect on the etching rate of the machine \n",
    "- what is the significance level   \n",
    "    - no signigicance means drop the variable \n",
    "    - yes significance means keep the variable \n",
    "- what are the degrees of freedom of model, error terms and total DoF \n",
    "    - degrees of freedom of model: the number of independent variables \n",
    "        - 2?\n",
    "        - df is degrees of greedom \n",
    "    - error terms?\n",
    "        - sum^2 error \n",
    "        - mean ^2 error will appear in the table \n",
    "        - residual the amount by which an observed variate differs from the value predicted by the model \n",
    "        - how much the predction varies from the actual value \n",
    "    - total DoF \n",
    "        - F statistic\n",
    "        - p value at the end \n",
    "        - "
   ]
  },
  {
   "cell_type": "code",
   "execution_count": null,
   "id": "61fcded0",
   "metadata": {},
   "outputs": [],
   "source": []
  },
  {
   "cell_type": "code",
   "execution_count": null,
   "id": "cc2df810",
   "metadata": {},
   "outputs": [],
   "source": []
  },
  {
   "cell_type": "markdown",
   "id": "03360c5f",
   "metadata": {},
   "source": [
    "# PART 2"
   ]
  },
  {
   "cell_type": "code",
   "execution_count": 21,
   "id": "8f08bced",
   "metadata": {},
   "outputs": [],
   "source": [
    "import statsmodels.api as sm\n",
    "from statsmodels.formula.api import ols\n",
    "import pandas as pd"
   ]
  },
  {
   "cell_type": "code",
   "execution_count": 22,
   "id": "572dd099",
   "metadata": {},
   "outputs": [
    {
     "data": {
      "text/html": [
       "<div>\n",
       "<style scoped>\n",
       "    .dataframe tbody tr th:only-of-type {\n",
       "        vertical-align: middle;\n",
       "    }\n",
       "\n",
       "    .dataframe tbody tr th {\n",
       "        vertical-align: top;\n",
       "    }\n",
       "\n",
       "    .dataframe thead th {\n",
       "        text-align: right;\n",
       "    }\n",
       "</style>\n",
       "<table border=\"1\" class=\"dataframe\">\n",
       "  <thead>\n",
       "    <tr style=\"text-align: right;\">\n",
       "      <th></th>\n",
       "      <th>Power</th>\n",
       "      <th>EtchingRate</th>\n",
       "    </tr>\n",
       "  </thead>\n",
       "  <tbody>\n",
       "    <tr>\n",
       "      <th>0</th>\n",
       "      <td>160 W</td>\n",
       "      <td>5.43</td>\n",
       "    </tr>\n",
       "    <tr>\n",
       "      <th>1</th>\n",
       "      <td>180 W</td>\n",
       "      <td>6.24</td>\n",
       "    </tr>\n",
       "    <tr>\n",
       "      <th>2</th>\n",
       "      <td>200 W</td>\n",
       "      <td>8.79</td>\n",
       "    </tr>\n",
       "    <tr>\n",
       "      <th>3</th>\n",
       "      <td>160 W</td>\n",
       "      <td>5.71</td>\n",
       "    </tr>\n",
       "    <tr>\n",
       "      <th>4</th>\n",
       "      <td>180 W</td>\n",
       "      <td>6.71</td>\n",
       "    </tr>\n",
       "  </tbody>\n",
       "</table>\n",
       "</div>"
      ],
      "text/plain": [
       "  Power   EtchingRate\n",
       "0  160 W         5.43\n",
       "1  180 W         6.24\n",
       "2  200 W         8.79\n",
       "3  160 W         5.71\n",
       "4  180 W         6.71"
      ]
     },
     "execution_count": 22,
     "metadata": {},
     "output_type": "execute_result"
    }
   ],
   "source": [
    "data = pd.read_excel('anova_lab_data.xlsx')\n",
    "data.head()"
   ]
  },
  {
   "cell_type": "code",
   "execution_count": 26,
   "id": "485a6cb5",
   "metadata": {},
   "outputs": [],
   "source": [
    "data.columns = ['Power','EtchingRate']\n",
    "# notice the space after power\n",
    "# space between etchingrate has to be changed \n",
    "# power is your x \n",
    "# etching rate is y \n",
    "# p value is very low \n",
    "# reject the null hypothesis so their is actually a difference "
   ]
  },
  {
   "cell_type": "code",
   "execution_count": 27,
   "id": "14494b9b",
   "metadata": {},
   "outputs": [
    {
     "name": "stdout",
     "output_type": "stream",
     "text": [
      "            df     sum_sq   mean_sq          F    PR(>F)\n",
      "C(Power)   2.0  18.176653  9.088327  36.878955  0.000008\n",
      "Residual  12.0   2.957240  0.246437        NaN       NaN\n"
     ]
    }
   ],
   "source": [
    "# it is space sensitive \n",
    "# f test \n",
    "# y(etchingRate) given X(power)\n",
    "model = ols('EtchingRate ~ C(Power)',data=data).fit()\n",
    "table = sm.stats.anova_lm(model)\n",
    "print(table)"
   ]
  },
  {
   "cell_type": "code",
   "execution_count": null,
   "id": "8fb3472d",
   "metadata": {},
   "outputs": [],
   "source": [
    "reject the null hypothesis  \n",
    "#SUPER SENSITIVE TO SPACES "
   ]
  },
  {
   "cell_type": "code",
   "execution_count": null,
   "id": "b0cb82b6",
   "metadata": {},
   "outputs": [],
   "source": []
  }
 ],
 "metadata": {
  "kernelspec": {
   "display_name": "Python 3",
   "language": "python",
   "name": "python3"
  },
  "language_info": {
   "codemirror_mode": {
    "name": "ipython",
    "version": 3
   },
   "file_extension": ".py",
   "mimetype": "text/x-python",
   "name": "python",
   "nbconvert_exporter": "python",
   "pygments_lexer": "ipython3",
   "version": "3.8.8"
  }
 },
 "nbformat": 4,
 "nbformat_minor": 5
}
