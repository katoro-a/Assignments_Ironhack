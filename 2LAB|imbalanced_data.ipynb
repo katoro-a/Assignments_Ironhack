{
 "cells": [
  {
   "cell_type": "code",
   "execution_count": 52,
   "id": "5af304c6",
   "metadata": {},
   "outputs": [],
   "source": [
    "import pandas as pd\n",
    "import numpy as np\n",
    "from sklearn.linear_model import LogisticRegression\n",
    "from sklearn.preprocessing import StandardScaler\n",
    "import warnings\n",
    "warnings.filterwarnings('ignore')\n",
    "\n",
    "import seaborn as sns\n",
    "import matplotlib.pyplot as plt\n",
    "%matplotlib inline\n",
    "\n",
    "import os\n",
    "import re\n",
    "\n",
    "pd.set_option('display.max_columns', None)\n",
    "pd.set_option('display.max_rows', None) "
   ]
  },
  {
   "cell_type": "markdown",
   "id": "6bf9f0e6",
   "metadata": {},
   "source": [
    "https://github.com/ironhack-labs/lab-imbalanced-data"
   ]
  },
  {
   "cell_type": "code",
   "execution_count": 53,
   "id": "dfbab59b",
   "metadata": {},
   "outputs": [],
   "source": [
    "churn_d = pd.read_csv('customer_churn.csv')"
   ]
  },
  {
   "cell_type": "markdown",
   "id": "1a873ae2",
   "metadata": {},
   "source": [
    "Load the dataset and explore the variables."
   ]
  },
  {
   "cell_type": "code",
   "execution_count": 23,
   "id": "0ee54e15",
   "metadata": {},
   "outputs": [
    {
     "data": {
      "text/html": [
       "<div>\n",
       "<style scoped>\n",
       "    .dataframe tbody tr th:only-of-type {\n",
       "        vertical-align: middle;\n",
       "    }\n",
       "\n",
       "    .dataframe tbody tr th {\n",
       "        vertical-align: top;\n",
       "    }\n",
       "\n",
       "    .dataframe thead th {\n",
       "        text-align: right;\n",
       "    }\n",
       "</style>\n",
       "<table border=\"1\" class=\"dataframe\">\n",
       "  <thead>\n",
       "    <tr style=\"text-align: right;\">\n",
       "      <th></th>\n",
       "      <th>customerID</th>\n",
       "      <th>gender</th>\n",
       "      <th>SeniorCitizen</th>\n",
       "      <th>Partner</th>\n",
       "      <th>Dependents</th>\n",
       "      <th>tenure</th>\n",
       "      <th>PhoneService</th>\n",
       "      <th>MultipleLines</th>\n",
       "      <th>InternetService</th>\n",
       "      <th>OnlineSecurity</th>\n",
       "      <th>OnlineBackup</th>\n",
       "      <th>DeviceProtection</th>\n",
       "      <th>TechSupport</th>\n",
       "      <th>StreamingTV</th>\n",
       "      <th>StreamingMovies</th>\n",
       "      <th>Contract</th>\n",
       "      <th>PaperlessBilling</th>\n",
       "      <th>PaymentMethod</th>\n",
       "      <th>MonthlyCharges</th>\n",
       "      <th>TotalCharges</th>\n",
       "      <th>Churn</th>\n",
       "    </tr>\n",
       "  </thead>\n",
       "  <tbody>\n",
       "    <tr>\n",
       "      <th>0</th>\n",
       "      <td>7590-VHVEG</td>\n",
       "      <td>Female</td>\n",
       "      <td>0</td>\n",
       "      <td>Yes</td>\n",
       "      <td>No</td>\n",
       "      <td>1</td>\n",
       "      <td>No</td>\n",
       "      <td>No phone service</td>\n",
       "      <td>DSL</td>\n",
       "      <td>No</td>\n",
       "      <td>Yes</td>\n",
       "      <td>No</td>\n",
       "      <td>No</td>\n",
       "      <td>No</td>\n",
       "      <td>No</td>\n",
       "      <td>Month-to-month</td>\n",
       "      <td>Yes</td>\n",
       "      <td>Electronic check</td>\n",
       "      <td>29.85</td>\n",
       "      <td>29.85</td>\n",
       "      <td>No</td>\n",
       "    </tr>\n",
       "    <tr>\n",
       "      <th>1</th>\n",
       "      <td>5575-GNVDE</td>\n",
       "      <td>Male</td>\n",
       "      <td>0</td>\n",
       "      <td>No</td>\n",
       "      <td>No</td>\n",
       "      <td>34</td>\n",
       "      <td>Yes</td>\n",
       "      <td>No</td>\n",
       "      <td>DSL</td>\n",
       "      <td>Yes</td>\n",
       "      <td>No</td>\n",
       "      <td>Yes</td>\n",
       "      <td>No</td>\n",
       "      <td>No</td>\n",
       "      <td>No</td>\n",
       "      <td>One year</td>\n",
       "      <td>No</td>\n",
       "      <td>Mailed check</td>\n",
       "      <td>56.95</td>\n",
       "      <td>1889.5</td>\n",
       "      <td>No</td>\n",
       "    </tr>\n",
       "  </tbody>\n",
       "</table>\n",
       "</div>"
      ],
      "text/plain": [
       "   customerID  gender  SeniorCitizen Partner Dependents  tenure PhoneService  \\\n",
       "0  7590-VHVEG  Female              0     Yes         No       1           No   \n",
       "1  5575-GNVDE    Male              0      No         No      34          Yes   \n",
       "\n",
       "      MultipleLines InternetService OnlineSecurity OnlineBackup  \\\n",
       "0  No phone service             DSL             No          Yes   \n",
       "1                No             DSL            Yes           No   \n",
       "\n",
       "  DeviceProtection TechSupport StreamingTV StreamingMovies        Contract  \\\n",
       "0               No          No          No              No  Month-to-month   \n",
       "1              Yes          No          No              No        One year   \n",
       "\n",
       "  PaperlessBilling     PaymentMethod  MonthlyCharges TotalCharges Churn  \n",
       "0              Yes  Electronic check           29.85        29.85    No  \n",
       "1               No      Mailed check           56.95       1889.5    No  "
      ]
     },
     "execution_count": 23,
     "metadata": {},
     "output_type": "execute_result"
    }
   ],
   "source": [
    "churn_d.head(2)"
   ]
  },
  {
   "cell_type": "markdown",
   "id": "bc1e1de5",
   "metadata": {},
   "source": [
    "2.We will try to predict variable Churn using a logistic regression on variables tenure, SeniorCitizen,MonthlyCharges.\n"
   ]
  },
  {
   "cell_type": "markdown",
   "id": "8b495f79",
   "metadata": {},
   "source": [
    "pay attention to the fact that no is much larger than yes "
   ]
  },
  {
   "cell_type": "code",
   "execution_count": 24,
   "id": "ee2c0039",
   "metadata": {},
   "outputs": [
    {
     "data": {
      "text/plain": [
       "No     5174\n",
       "Yes    1869\n",
       "Name: Churn, dtype: int64"
      ]
     },
     "execution_count": 24,
     "metadata": {},
     "output_type": "execute_result"
    }
   ],
   "source": [
    "churn_d['Churn'].value_counts()"
   ]
  },
  {
   "cell_type": "markdown",
   "id": "a959c48b",
   "metadata": {},
   "source": [
    "- With highly skewed data like this you want to avoid the model getting a bias \n",
    "- to avoid this you want the same number of cases for each type "
   ]
  },
  {
   "cell_type": "markdown",
   "id": "083387c7",
   "metadata": {},
   "source": [
    "# 5.regular logistic regression"
   ]
  },
  {
   "cell_type": "code",
   "execution_count": 25,
   "id": "63cef447",
   "metadata": {},
   "outputs": [
    {
     "data": {
      "text/plain": [
       "0.7911401391452506"
      ]
     },
     "execution_count": 25,
     "metadata": {},
     "output_type": "execute_result"
    }
   ],
   "source": [
    "#scale the data \n",
    "numericData=churn_d[['tenure','SeniorCitizen','MonthlyCharges']]\n",
    "Y = pd.DataFrame(data=churn_d,columns=['Churn'])\n",
    "transformer = StandardScaler().fit(churn_d[['tenure','SeniorCitizen','MonthlyCharges']])\n",
    "scaled_x=transformer.transform(churn_d[['tenure','SeniorCitizen','MonthlyCharges']])\n",
    "#----------------------------------------------------------------------\n",
    "#apply the logistic regression\n",
    "Classification= LogisticRegression(random_state=0,solver='lbfgs'\n",
    "                                   ,multi_class='ovr').fit(scaled_x,churn_d['Churn'])\n",
    "# there are different solvers you can apply to your logisticregression \n",
    "    # check how they hold up \n",
    "Classification.score(scaled_x, churn_d['Churn'])\n",
    "\n",
    "# do a train test split ** then calculate the accuracy \n",
    " "
   ]
  },
  {
   "cell_type": "markdown",
   "id": "19e6d760",
   "metadata": {},
   "source": [
    "Notice that even with the imbalance when we tried to fit the model without any data cleaning we still got nearly 80%"
   ]
  },
  {
   "cell_type": "markdown",
   "id": "f2ad8090",
   "metadata": {},
   "source": [
    "this means that the accuracy dosnt isnt always the most accurate measure "
   ]
  },
  {
   "cell_type": "code",
   "execution_count": 26,
   "id": "0c6cd60f",
   "metadata": {},
   "outputs": [
    {
     "data": {
      "text/plain": [
       "0.7346301292063041"
      ]
     },
     "execution_count": 26,
     "metadata": {},
     "output_type": "execute_result"
    }
   ],
   "source": [
    "5174/(5174+1869) # this is the accuracy of the model\n"
   ]
  },
  {
   "cell_type": "code",
   "execution_count": 27,
   "id": "b6ecc9df",
   "metadata": {},
   "outputs": [],
   "source": [
    "#filter yes and no into 2 variables \n",
    "yes = churn_d[churn_d['Churn']=='Yes']\n",
    "no = churn_d[churn_d['Churn']=='No']"
   ]
  },
  {
   "cell_type": "code",
   "execution_count": 28,
   "id": "4c08e270",
   "metadata": {},
   "outputs": [
    {
     "data": {
      "text/plain": [
       "No     5174\n",
       "Yes    1869\n",
       "Name: Churn, dtype: int64"
      ]
     },
     "execution_count": 28,
     "metadata": {},
     "output_type": "execute_result"
    }
   ],
   "source": [
    "churn_d['Churn'].value_counts() \n",
    "#we will take yes and increase the number of samples "
   ]
  },
  {
   "cell_type": "markdown",
   "id": "6a499d71",
   "metadata": {},
   "source": [
    "# undersampling "
   ]
  },
  {
   "cell_type": "code",
   "execution_count": 29,
   "id": "5a7f627b",
   "metadata": {},
   "outputs": [],
   "source": [
    "\n",
    "data1=yes\n",
    "datas=no.sample(churn_d['Churn'].value_counts()[1]) \n",
    "#the sample function is used  \n",
    "    #https://www.geeksforgeeks.org/python-random-sample-function/\n",
    "#sample() is an inbuilt function of random module in Python that \n",
    "    #returns a particular length list of items chosen from the \n",
    "    #sequence i.e. list, tuple, string or set. Used for random \n",
    "    #sampling without replacement.  \n",
    "    \n",
    "#no.sample focuses on the no's in churn\n",
    "    \n",
    "#so we will pick random points from the churn columns \n",
    "#how many data points we want will be denoted by \n",
    "    #.value_counts()[1] "
   ]
  },
  {
   "cell_type": "code",
   "execution_count": 30,
   "id": "3b679d98",
   "metadata": {},
   "outputs": [],
   "source": [
    "data_final=pd.concat([data1,datas],axis=0) \n",
    "#add the 2 dataframes together the original data1 and the new datas\n"
   ]
  },
  {
   "cell_type": "code",
   "execution_count": 31,
   "id": "83d2242c",
   "metadata": {},
   "outputs": [
    {
     "data": {
      "text/plain": [
       "(3738, 21)"
      ]
     },
     "execution_count": 31,
     "metadata": {},
     "output_type": "execute_result"
    }
   ],
   "source": [
    "data_final.shape #these are the random points selected to balance out yes"
   ]
  },
  {
   "cell_type": "markdown",
   "id": "960e0c41",
   "metadata": {},
   "source": [
    "# Random Over sampling "
   ]
  },
  {
   "cell_type": "markdown",
   "id": "d0a54fd7",
   "metadata": {},
   "source": [
    "increase the yes to match the no "
   ]
  },
  {
   "cell_type": "code",
   "execution_count": 32,
   "id": "f01206d3",
   "metadata": {},
   "outputs": [
    {
     "data": {
      "text/plain": [
       "No     5174\n",
       "Yes    1869\n",
       "Name: Churn, dtype: int64"
      ]
     },
     "execution_count": 32,
     "metadata": {},
     "output_type": "execute_result"
    }
   ],
   "source": [
    "churn_d['Churn'].value_counts()"
   ]
  },
  {
   "cell_type": "code",
   "execution_count": 33,
   "id": "f3db7c13",
   "metadata": {},
   "outputs": [],
   "source": [
    "yes=churn_d[churn_d['Churn']=='Yes']\n",
    "no = churn_d[churn_d['Churn']=='No']"
   ]
  },
  {
   "cell_type": "code",
   "execution_count": 34,
   "id": "74a4edad",
   "metadata": {},
   "outputs": [],
   "source": [
    "data3 = yes.sample(5174,replace = True)  \n",
    "# randomly sample data from the same box aka the yes box\n",
    "#similar to bootstraping  \n",
    "\n",
    "# Question is 5174 --> N?\n",
    "\n",
    "#https://pandas.pydata.org/pandas-docs/stable/reference/api/pandas.DataFrame.sample.html\n",
    "    #replace :bool, default False --> Allow or disallow sampling of the same row more than once."
   ]
  },
  {
   "cell_type": "code",
   "execution_count": 35,
   "id": "5c4a9b43",
   "metadata": {},
   "outputs": [
    {
     "data": {
      "text/plain": [
       "(5174, 21)"
      ]
     },
     "execution_count": 35,
     "metadata": {},
     "output_type": "execute_result"
    }
   ],
   "source": [
    "data3.shape"
   ]
  },
  {
   "cell_type": "code",
   "execution_count": 36,
   "id": "059bf536",
   "metadata": {},
   "outputs": [
    {
     "data": {
      "text/plain": [
       "(1747, 21)"
      ]
     },
     "execution_count": 36,
     "metadata": {},
     "output_type": "execute_result"
    }
   ],
   "source": [
    "data3.drop_duplicates().shape"
   ]
  },
  {
   "cell_type": "code",
   "execution_count": null,
   "id": "fb98c15f",
   "metadata": {},
   "outputs": [],
   "source": []
  },
  {
   "cell_type": "code",
   "execution_count": 37,
   "id": "64f185c9",
   "metadata": {},
   "outputs": [
    {
     "data": {
      "text/html": [
       "<div>\n",
       "<style scoped>\n",
       "    .dataframe tbody tr th:only-of-type {\n",
       "        vertical-align: middle;\n",
       "    }\n",
       "\n",
       "    .dataframe tbody tr th {\n",
       "        vertical-align: top;\n",
       "    }\n",
       "\n",
       "    .dataframe thead th {\n",
       "        text-align: right;\n",
       "    }\n",
       "</style>\n",
       "<table border=\"1\" class=\"dataframe\">\n",
       "  <thead>\n",
       "    <tr style=\"text-align: right;\">\n",
       "      <th></th>\n",
       "      <th>customerID</th>\n",
       "      <th>gender</th>\n",
       "      <th>SeniorCitizen</th>\n",
       "      <th>Partner</th>\n",
       "      <th>Dependents</th>\n",
       "      <th>tenure</th>\n",
       "      <th>PhoneService</th>\n",
       "      <th>MultipleLines</th>\n",
       "      <th>InternetService</th>\n",
       "      <th>OnlineSecurity</th>\n",
       "      <th>OnlineBackup</th>\n",
       "      <th>DeviceProtection</th>\n",
       "      <th>TechSupport</th>\n",
       "      <th>StreamingTV</th>\n",
       "      <th>StreamingMovies</th>\n",
       "      <th>Contract</th>\n",
       "      <th>PaperlessBilling</th>\n",
       "      <th>PaymentMethod</th>\n",
       "      <th>MonthlyCharges</th>\n",
       "      <th>TotalCharges</th>\n",
       "      <th>Churn</th>\n",
       "    </tr>\n",
       "  </thead>\n",
       "  <tbody>\n",
       "    <tr>\n",
       "      <th>2812</th>\n",
       "      <td>3763-GCZHZ</td>\n",
       "      <td>Male</td>\n",
       "      <td>0</td>\n",
       "      <td>Yes</td>\n",
       "      <td>No</td>\n",
       "      <td>66</td>\n",
       "      <td>Yes</td>\n",
       "      <td>Yes</td>\n",
       "      <td>Fiber optic</td>\n",
       "      <td>No</td>\n",
       "      <td>Yes</td>\n",
       "      <td>No</td>\n",
       "      <td>Yes</td>\n",
       "      <td>Yes</td>\n",
       "      <td>Yes</td>\n",
       "      <td>One year</td>\n",
       "      <td>Yes</td>\n",
       "      <td>Electronic check</td>\n",
       "      <td>104.05</td>\n",
       "      <td>6890</td>\n",
       "      <td>Yes</td>\n",
       "    </tr>\n",
       "    <tr>\n",
       "      <th>3079</th>\n",
       "      <td>2141-RRYGO</td>\n",
       "      <td>Female</td>\n",
       "      <td>0</td>\n",
       "      <td>No</td>\n",
       "      <td>No</td>\n",
       "      <td>4</td>\n",
       "      <td>Yes</td>\n",
       "      <td>No</td>\n",
       "      <td>DSL</td>\n",
       "      <td>No</td>\n",
       "      <td>Yes</td>\n",
       "      <td>No</td>\n",
       "      <td>No</td>\n",
       "      <td>Yes</td>\n",
       "      <td>Yes</td>\n",
       "      <td>Month-to-month</td>\n",
       "      <td>Yes</td>\n",
       "      <td>Bank transfer (automatic)</td>\n",
       "      <td>68.65</td>\n",
       "      <td>261.25</td>\n",
       "      <td>Yes</td>\n",
       "    </tr>\n",
       "    <tr>\n",
       "      <th>3906</th>\n",
       "      <td>6372-RFVNS</td>\n",
       "      <td>Female</td>\n",
       "      <td>0</td>\n",
       "      <td>Yes</td>\n",
       "      <td>No</td>\n",
       "      <td>1</td>\n",
       "      <td>Yes</td>\n",
       "      <td>No</td>\n",
       "      <td>Fiber optic</td>\n",
       "      <td>No</td>\n",
       "      <td>No</td>\n",
       "      <td>No</td>\n",
       "      <td>No</td>\n",
       "      <td>Yes</td>\n",
       "      <td>No</td>\n",
       "      <td>Month-to-month</td>\n",
       "      <td>No</td>\n",
       "      <td>Electronic check</td>\n",
       "      <td>78.80</td>\n",
       "      <td>78.8</td>\n",
       "      <td>Yes</td>\n",
       "    </tr>\n",
       "    <tr>\n",
       "      <th>354</th>\n",
       "      <td>0623-IIHUG</td>\n",
       "      <td>Female</td>\n",
       "      <td>1</td>\n",
       "      <td>No</td>\n",
       "      <td>No</td>\n",
       "      <td>21</td>\n",
       "      <td>No</td>\n",
       "      <td>No phone service</td>\n",
       "      <td>DSL</td>\n",
       "      <td>Yes</td>\n",
       "      <td>No</td>\n",
       "      <td>No</td>\n",
       "      <td>No</td>\n",
       "      <td>Yes</td>\n",
       "      <td>No</td>\n",
       "      <td>Month-to-month</td>\n",
       "      <td>Yes</td>\n",
       "      <td>Electronic check</td>\n",
       "      <td>41.90</td>\n",
       "      <td>840.1</td>\n",
       "      <td>Yes</td>\n",
       "    </tr>\n",
       "    <tr>\n",
       "      <th>1054</th>\n",
       "      <td>5981-ITEMU</td>\n",
       "      <td>Male</td>\n",
       "      <td>0</td>\n",
       "      <td>Yes</td>\n",
       "      <td>No</td>\n",
       "      <td>40</td>\n",
       "      <td>Yes</td>\n",
       "      <td>Yes</td>\n",
       "      <td>Fiber optic</td>\n",
       "      <td>No</td>\n",
       "      <td>No</td>\n",
       "      <td>No</td>\n",
       "      <td>No</td>\n",
       "      <td>Yes</td>\n",
       "      <td>Yes</td>\n",
       "      <td>Month-to-month</td>\n",
       "      <td>Yes</td>\n",
       "      <td>Bank transfer (automatic)</td>\n",
       "      <td>97.10</td>\n",
       "      <td>3706.95</td>\n",
       "      <td>Yes</td>\n",
       "    </tr>\n",
       "  </tbody>\n",
       "</table>\n",
       "</div>"
      ],
      "text/plain": [
       "      customerID  gender  SeniorCitizen Partner Dependents  tenure  \\\n",
       "2812  3763-GCZHZ    Male              0     Yes         No      66   \n",
       "3079  2141-RRYGO  Female              0      No         No       4   \n",
       "3906  6372-RFVNS  Female              0     Yes         No       1   \n",
       "354   0623-IIHUG  Female              1      No         No      21   \n",
       "1054  5981-ITEMU    Male              0     Yes         No      40   \n",
       "\n",
       "     PhoneService     MultipleLines InternetService OnlineSecurity  \\\n",
       "2812          Yes               Yes     Fiber optic             No   \n",
       "3079          Yes                No             DSL             No   \n",
       "3906          Yes                No     Fiber optic             No   \n",
       "354            No  No phone service             DSL            Yes   \n",
       "1054          Yes               Yes     Fiber optic             No   \n",
       "\n",
       "     OnlineBackup DeviceProtection TechSupport StreamingTV StreamingMovies  \\\n",
       "2812          Yes               No         Yes         Yes             Yes   \n",
       "3079          Yes               No          No         Yes             Yes   \n",
       "3906           No               No          No         Yes              No   \n",
       "354            No               No          No         Yes              No   \n",
       "1054           No               No          No         Yes             Yes   \n",
       "\n",
       "            Contract PaperlessBilling              PaymentMethod  \\\n",
       "2812        One year              Yes           Electronic check   \n",
       "3079  Month-to-month              Yes  Bank transfer (automatic)   \n",
       "3906  Month-to-month               No           Electronic check   \n",
       "354   Month-to-month              Yes           Electronic check   \n",
       "1054  Month-to-month              Yes  Bank transfer (automatic)   \n",
       "\n",
       "      MonthlyCharges TotalCharges Churn  \n",
       "2812          104.05         6890   Yes  \n",
       "3079           68.65       261.25   Yes  \n",
       "3906           78.80         78.8   Yes  \n",
       "354            41.90        840.1   Yes  \n",
       "1054           97.10      3706.95   Yes  "
      ]
     },
     "execution_count": 37,
     "metadata": {},
     "output_type": "execute_result"
    }
   ],
   "source": [
    "data3.head()"
   ]
  },
  {
   "cell_type": "code",
   "execution_count": 38,
   "id": "6a4688f2",
   "metadata": {},
   "outputs": [
    {
     "data": {
      "text/plain": [
       "(2587, 21)"
      ]
     },
     "execution_count": 38,
     "metadata": {},
     "output_type": "execute_result"
    }
   ],
   "source": [
    "no.sample(frac=0.5).shape\n",
    "#this is half of the original data for no \n",
    "#this is undersampling  \n",
    "#no originally had 5174 rows \n"
   ]
  },
  {
   "cell_type": "markdown",
   "id": "ae06e31b",
   "metadata": {},
   "source": [
    "# Or "
   ]
  },
  {
   "cell_type": "markdown",
   "id": "e46182e1",
   "metadata": {},
   "source": [
    "- you can also limit the sample size directly with a number instead of a fraction"
   ]
  },
  {
   "cell_type": "code",
   "execution_count": 39,
   "id": "1e34e402",
   "metadata": {},
   "outputs": [
    {
     "data": {
      "text/plain": [
       "(100, 21)"
      ]
     },
     "execution_count": 39,
     "metadata": {},
     "output_type": "execute_result"
    }
   ],
   "source": [
    "no.sample(100).shape  \n",
    "#not preferred method \n"
   ]
  },
  {
   "cell_type": "code",
   "execution_count": 40,
   "id": "aa8617b7",
   "metadata": {},
   "outputs": [
    {
     "data": {
      "text/plain": [
       "No     5174\n",
       "Yes    1869\n",
       "Name: Churn, dtype: int64"
      ]
     },
     "execution_count": 40,
     "metadata": {},
     "output_type": "execute_result"
    }
   ],
   "source": [
    "churn_d['Churn'].value_counts()"
   ]
  },
  {
   "cell_type": "code",
   "execution_count": 41,
   "id": "1a5721f9",
   "metadata": {},
   "outputs": [],
   "source": [
    "#no.sample(churnData['churn'].value_counts()[1]).shape\n",
    "# you want them both to have 1869 rows and 21 columns  \n",
    "# want equal quantities of yes and equal quantities of no "
   ]
  },
  {
   "cell_type": "markdown",
   "id": "878ec3a9",
   "metadata": {},
   "source": [
    "# Increaseing the Imbalance  \n",
    "- to see how the model works  \n",
    "    - lower the yes data points to 500 "
   ]
  },
  {
   "cell_type": "code",
   "execution_count": 42,
   "id": "49e1e03f",
   "metadata": {},
   "outputs": [],
   "source": [
    "\n",
    "yes = churn_d[churn_d['Churn']=='Yes']\n",
    "no = churn_d[churn_d['Churn']== 'No']\n",
    "yes = yes.sample(500) \n",
    "\n",
    "#reducing the sample that is over represented \n",
    "#or you could undersample the category in excess by taking a random subset of the data provided \n",
    "#over sample- the under represented categroy  \n",
    "\n",
    "# your accuracy will still be high, but the model would not be a good representaion of the data set becasue of the imbalance will result in the model being bias and the majority class being overrepresented  "
   ]
  },
  {
   "cell_type": "code",
   "execution_count": 43,
   "id": "db2f201b",
   "metadata": {},
   "outputs": [
    {
     "name": "stdout",
     "output_type": "stream",
     "text": [
      "No     5174\n",
      "Yes     500\n",
      "Name: Churn, dtype: int64\n"
     ]
    },
    {
     "data": {
      "text/html": [
       "<div>\n",
       "<style scoped>\n",
       "    .dataframe tbody tr th:only-of-type {\n",
       "        vertical-align: middle;\n",
       "    }\n",
       "\n",
       "    .dataframe tbody tr th {\n",
       "        vertical-align: top;\n",
       "    }\n",
       "\n",
       "    .dataframe thead th {\n",
       "        text-align: right;\n",
       "    }\n",
       "</style>\n",
       "<table border=\"1\" class=\"dataframe\">\n",
       "  <thead>\n",
       "    <tr style=\"text-align: right;\">\n",
       "      <th></th>\n",
       "      <th>customerID</th>\n",
       "      <th>gender</th>\n",
       "      <th>SeniorCitizen</th>\n",
       "      <th>Partner</th>\n",
       "      <th>Dependents</th>\n",
       "      <th>tenure</th>\n",
       "      <th>PhoneService</th>\n",
       "      <th>MultipleLines</th>\n",
       "      <th>InternetService</th>\n",
       "      <th>OnlineSecurity</th>\n",
       "      <th>OnlineBackup</th>\n",
       "      <th>DeviceProtection</th>\n",
       "      <th>TechSupport</th>\n",
       "      <th>StreamingTV</th>\n",
       "      <th>StreamingMovies</th>\n",
       "      <th>Contract</th>\n",
       "      <th>PaperlessBilling</th>\n",
       "      <th>PaymentMethod</th>\n",
       "      <th>MonthlyCharges</th>\n",
       "      <th>TotalCharges</th>\n",
       "      <th>Churn</th>\n",
       "    </tr>\n",
       "  </thead>\n",
       "  <tbody>\n",
       "    <tr>\n",
       "      <th>6205</th>\n",
       "      <td>7547-EKNFS</td>\n",
       "      <td>Male</td>\n",
       "      <td>0</td>\n",
       "      <td>Yes</td>\n",
       "      <td>No</td>\n",
       "      <td>42</td>\n",
       "      <td>Yes</td>\n",
       "      <td>Yes</td>\n",
       "      <td>Fiber optic</td>\n",
       "      <td>No</td>\n",
       "      <td>Yes</td>\n",
       "      <td>Yes</td>\n",
       "      <td>No</td>\n",
       "      <td>Yes</td>\n",
       "      <td>No</td>\n",
       "      <td>Month-to-month</td>\n",
       "      <td>Yes</td>\n",
       "      <td>Bank transfer (automatic)</td>\n",
       "      <td>95.25</td>\n",
       "      <td>3959.35</td>\n",
       "      <td>Yes</td>\n",
       "    </tr>\n",
       "    <tr>\n",
       "      <th>6137</th>\n",
       "      <td>0870-VEMYL</td>\n",
       "      <td>Female</td>\n",
       "      <td>0</td>\n",
       "      <td>No</td>\n",
       "      <td>No</td>\n",
       "      <td>5</td>\n",
       "      <td>Yes</td>\n",
       "      <td>No</td>\n",
       "      <td>DSL</td>\n",
       "      <td>Yes</td>\n",
       "      <td>No</td>\n",
       "      <td>No</td>\n",
       "      <td>Yes</td>\n",
       "      <td>No</td>\n",
       "      <td>No</td>\n",
       "      <td>Month-to-month</td>\n",
       "      <td>No</td>\n",
       "      <td>Credit card (automatic)</td>\n",
       "      <td>53.85</td>\n",
       "      <td>259.8</td>\n",
       "      <td>Yes</td>\n",
       "    </tr>\n",
       "    <tr>\n",
       "      <th>4960</th>\n",
       "      <td>7480-QNVZJ</td>\n",
       "      <td>Male</td>\n",
       "      <td>1</td>\n",
       "      <td>No</td>\n",
       "      <td>No</td>\n",
       "      <td>50</td>\n",
       "      <td>Yes</td>\n",
       "      <td>Yes</td>\n",
       "      <td>Fiber optic</td>\n",
       "      <td>No</td>\n",
       "      <td>No</td>\n",
       "      <td>No</td>\n",
       "      <td>No</td>\n",
       "      <td>Yes</td>\n",
       "      <td>Yes</td>\n",
       "      <td>Month-to-month</td>\n",
       "      <td>Yes</td>\n",
       "      <td>Electronic check</td>\n",
       "      <td>95.70</td>\n",
       "      <td>4816.7</td>\n",
       "      <td>Yes</td>\n",
       "    </tr>\n",
       "    <tr>\n",
       "      <th>5565</th>\n",
       "      <td>5087-SUURX</td>\n",
       "      <td>Female</td>\n",
       "      <td>0</td>\n",
       "      <td>Yes</td>\n",
       "      <td>No</td>\n",
       "      <td>18</td>\n",
       "      <td>No</td>\n",
       "      <td>No phone service</td>\n",
       "      <td>DSL</td>\n",
       "      <td>No</td>\n",
       "      <td>No</td>\n",
       "      <td>Yes</td>\n",
       "      <td>No</td>\n",
       "      <td>Yes</td>\n",
       "      <td>No</td>\n",
       "      <td>Month-to-month</td>\n",
       "      <td>Yes</td>\n",
       "      <td>Electronic check</td>\n",
       "      <td>39.05</td>\n",
       "      <td>669.85</td>\n",
       "      <td>Yes</td>\n",
       "    </tr>\n",
       "    <tr>\n",
       "      <th>1686</th>\n",
       "      <td>6839-ITVZJ</td>\n",
       "      <td>Female</td>\n",
       "      <td>0</td>\n",
       "      <td>Yes</td>\n",
       "      <td>Yes</td>\n",
       "      <td>26</td>\n",
       "      <td>Yes</td>\n",
       "      <td>Yes</td>\n",
       "      <td>DSL</td>\n",
       "      <td>No</td>\n",
       "      <td>Yes</td>\n",
       "      <td>No</td>\n",
       "      <td>Yes</td>\n",
       "      <td>No</td>\n",
       "      <td>No</td>\n",
       "      <td>Month-to-month</td>\n",
       "      <td>Yes</td>\n",
       "      <td>Electronic check</td>\n",
       "      <td>60.05</td>\n",
       "      <td>1616.15</td>\n",
       "      <td>Yes</td>\n",
       "    </tr>\n",
       "  </tbody>\n",
       "</table>\n",
       "</div>"
      ],
      "text/plain": [
       "      customerID  gender  SeniorCitizen Partner Dependents  tenure  \\\n",
       "6205  7547-EKNFS    Male              0     Yes         No      42   \n",
       "6137  0870-VEMYL  Female              0      No         No       5   \n",
       "4960  7480-QNVZJ    Male              1      No         No      50   \n",
       "5565  5087-SUURX  Female              0     Yes         No      18   \n",
       "1686  6839-ITVZJ  Female              0     Yes        Yes      26   \n",
       "\n",
       "     PhoneService     MultipleLines InternetService OnlineSecurity  \\\n",
       "6205          Yes               Yes     Fiber optic             No   \n",
       "6137          Yes                No             DSL            Yes   \n",
       "4960          Yes               Yes     Fiber optic             No   \n",
       "5565           No  No phone service             DSL             No   \n",
       "1686          Yes               Yes             DSL             No   \n",
       "\n",
       "     OnlineBackup DeviceProtection TechSupport StreamingTV StreamingMovies  \\\n",
       "6205          Yes              Yes          No         Yes              No   \n",
       "6137           No               No         Yes          No              No   \n",
       "4960           No               No          No         Yes             Yes   \n",
       "5565           No              Yes          No         Yes              No   \n",
       "1686          Yes               No         Yes          No              No   \n",
       "\n",
       "            Contract PaperlessBilling              PaymentMethod  \\\n",
       "6205  Month-to-month              Yes  Bank transfer (automatic)   \n",
       "6137  Month-to-month               No    Credit card (automatic)   \n",
       "4960  Month-to-month              Yes           Electronic check   \n",
       "5565  Month-to-month              Yes           Electronic check   \n",
       "1686  Month-to-month              Yes           Electronic check   \n",
       "\n",
       "      MonthlyCharges TotalCharges Churn  \n",
       "6205           95.25      3959.35   Yes  \n",
       "6137           53.85        259.8   Yes  \n",
       "4960           95.70       4816.7   Yes  \n",
       "5565           39.05       669.85   Yes  \n",
       "1686           60.05      1616.15   Yes  "
      ]
     },
     "execution_count": 43,
     "metadata": {},
     "output_type": "execute_result"
    }
   ],
   "source": [
    "data = pd.concat([yes,no],axis=0)\n",
    "print(data['Churn'].value_counts())\n",
    "data.head()\n"
   ]
  },
  {
   "cell_type": "markdown",
   "id": "2f88d21d",
   "metadata": {},
   "source": [
    "# Shuffling data "
   ]
  },
  {
   "cell_type": "code",
   "execution_count": 44,
   "id": "ccc3673f",
   "metadata": {},
   "outputs": [
    {
     "data": {
      "text/plain": [
       "No     5174\n",
       "Yes     500\n",
       "Name: Churn, dtype: int64"
      ]
     },
     "execution_count": 44,
     "metadata": {},
     "output_type": "execute_result"
    }
   ],
   "source": [
    "data= data.sample(frac=1) \n",
    "data['Churn'].value_counts()"
   ]
  },
  {
   "cell_type": "markdown",
   "id": "800d9bf2",
   "metadata": {},
   "source": [
    "after the rebalancing "
   ]
  },
  {
   "cell_type": "code",
   "execution_count": 45,
   "id": "f17efaf7",
   "metadata": {},
   "outputs": [
    {
     "data": {
      "text/plain": [
       "0.9122312301727177"
      ]
     },
     "execution_count": 45,
     "metadata": {},
     "output_type": "execute_result"
    }
   ],
   "source": [
    "numericData = data[['tenure','SeniorCitizen','MonthlyCharges']]\n",
    "transformer = StandardScaler().fit(data[['tenure','SeniorCitizen','MonthlyCharges']])\n",
    "scaled_x = transformer.transform(data[['tenure','SeniorCitizen','MonthlyCharges']])\n",
    "\n",
    "classification=LogisticRegression(random_state=0, solver = 'lbfgs',\n",
    "                  multi_class = 'ovr').fit(scaled_x, data['Churn'])\n",
    "classification.score(scaled_x,data['Churn'])"
   ]
  },
  {
   "cell_type": "markdown",
   "id": "45d4b7de",
   "metadata": {},
   "source": [
    "Despite the advantage of balancing classes, these techniques also have their weaknesses (there is no free lunch). The simplest implementation of over-sampling is to duplicate random records from the minority class, which can cause overfitting. In under-sampling, the simplest technique involves removing random records from the majority class, which can cause loss of information."
   ]
  },
  {
   "cell_type": "code",
   "execution_count": 46,
   "id": "e25f89ae",
   "metadata": {},
   "outputs": [
    {
     "data": {
      "text/plain": [
       "No     5174\n",
       "Yes    5174\n",
       "Name: Churn, dtype: int64"
      ]
     },
     "execution_count": 46,
     "metadata": {},
     "output_type": "execute_result"
    }
   ],
   "source": [
    "counts = churn_d['Churn'].value_counts()\n",
    "yes = churn_d[churn_d['Churn']== 'Yes'].sample(counts[0],replace= True)\n",
    "no = churn_d[churn_d['Churn']== 'No'] \n",
    "data = pd.concat([yes,no],axis=0)\n",
    "data = data.sample(frac=1) #used for both over sampling and undersampling \n",
    "data['Churn'].value_counts()"
   ]
  },
  {
   "cell_type": "code",
   "execution_count": 47,
   "id": "6843d47e",
   "metadata": {},
   "outputs": [
    {
     "data": {
      "text/plain": [
       "No     5174\n",
       "Yes    1869\n",
       "Name: Churn, dtype: int64"
      ]
     },
     "execution_count": 47,
     "metadata": {},
     "output_type": "execute_result"
    }
   ],
   "source": [
    "counts = churn_d['Churn'].value_counts() \n",
    "counts"
   ]
  },
  {
   "cell_type": "code",
   "execution_count": 51,
   "id": "083aa118",
   "metadata": {},
   "outputs": [
    {
     "data": {
      "text/plain": [
       "0.5002899110939312"
      ]
     },
     "execution_count": 51,
     "metadata": {},
     "output_type": "execute_result"
    }
   ],
   "source": [
    "X = data[['tenure','SeniorCitizen','MonthlyCharges']]\n",
    "transformer = StandardScaler().fit(X)\n",
    "X = transformer.transform(X)\n",
    "\n",
    "calssification = LogisticRegression(random_state=0,solver='lbfgs',\n",
    "                                   multi_class='ovr').fit(X, data['Churn'])\n",
    "classification.score(X, data['Churn']) \n",
    "\n",
    "\n",
    "# more reliable than the .7 we had before on the imbalnaced data "
   ]
  },
  {
   "cell_type": "markdown",
   "id": "299b5cd3",
   "metadata": {},
   "source": [
    " Other more sophisticated resapling techniques include:\n",
    "\n",
    "Cluster the records of the majority class, and do the under-sampling by removing records from each cluster, thus seeking to preserve information. \n",
    "In over-sampling, instead of creating exact copies of the minority class records, we can introduce small variations into those copies, creating more diverse synthetic samples."
   ]
  },
  {
   "cell_type": "markdown",
   "id": "420850c3",
   "metadata": {},
   "source": [
    "## use pip install imblearn "
   ]
  },
  {
   "cell_type": "code",
   "execution_count": 49,
   "id": "b48c0c04",
   "metadata": {},
   "outputs": [
    {
     "name": "stdout",
     "output_type": "stream",
     "text": [
      "Requirement already satisfied: imblearn in /Users/Bijou/opt/anaconda3/lib/python3.8/site-packages (0.0)\n",
      "Requirement already satisfied: imbalanced-learn in /Users/Bijou/opt/anaconda3/lib/python3.8/site-packages (from imblearn) (0.8.1)\n",
      "Requirement already satisfied: joblib>=0.11 in /Users/Bijou/opt/anaconda3/lib/python3.8/site-packages (from imbalanced-learn->imblearn) (1.0.1)\n",
      "Requirement already satisfied: scipy>=0.19.1 in /Users/Bijou/opt/anaconda3/lib/python3.8/site-packages (from imbalanced-learn->imblearn) (1.6.2)\n",
      "Requirement already satisfied: scikit-learn>=0.24 in /Users/Bijou/opt/anaconda3/lib/python3.8/site-packages (from imbalanced-learn->imblearn) (0.24.1)\n",
      "Requirement already satisfied: numpy>=1.13.3 in /Users/Bijou/opt/anaconda3/lib/python3.8/site-packages (from imbalanced-learn->imblearn) (1.20.1)\n",
      "Requirement already satisfied: threadpoolctl>=2.0.0 in /Users/Bijou/opt/anaconda3/lib/python3.8/site-packages (from scikit-learn>=0.24->imbalanced-learn->imblearn) (2.1.0)\n",
      "Note: you may need to restart the kernel to use updated packages.\n"
     ]
    }
   ],
   "source": [
    "pip install imblearn"
   ]
  },
  {
   "cell_type": "markdown",
   "id": "3be60b5e",
   "metadata": {},
   "source": [
    "# Random Under Sampler"
   ]
  },
  {
   "cell_type": "code",
   "execution_count": 51,
   "id": "f18ddc23",
   "metadata": {},
   "outputs": [],
   "source": [
    "from imblearn.under_sampling import RandomUnderSampler\n",
    "from imblearn.over_sampling import RandomOverSampler"
   ]
  },
  {
   "cell_type": "code",
   "execution_count": 53,
   "id": "bc3f8c0f",
   "metadata": {},
   "outputs": [],
   "source": [
    "rus = RandomUnderSampler()\n",
    "X = churn_d[['tenure','SeniorCitizen','MonthlyCharges']]\n",
    "transformer = StandardScaler().fit(X)\n",
    "X = transformer.transform(X)\n",
    "y = churn_d['Churn']\n",
    "X_rus,y_rus = rus.fit_resample(X,y) \n",
    "#resample is the correct format for this "
   ]
  },
  {
   "cell_type": "code",
   "execution_count": 54,
   "id": "d298f407",
   "metadata": {},
   "outputs": [
    {
     "data": {
      "text/plain": [
       "No     5174\n",
       "Yes    1869\n",
       "Name: Churn, dtype: int64"
      ]
     },
     "execution_count": 54,
     "metadata": {},
     "output_type": "execute_result"
    }
   ],
   "source": [
    "y.value_counts()"
   ]
  },
  {
   "cell_type": "code",
   "execution_count": 56,
   "id": "a1a9ba51",
   "metadata": {},
   "outputs": [
    {
     "data": {
      "text/plain": [
       "Yes    1869\n",
       "No     1869\n",
       "Name: Churn, dtype: int64"
      ]
     },
     "execution_count": 56,
     "metadata": {},
     "output_type": "execute_result"
    }
   ],
   "source": [
    "y_rus.value_counts()"
   ]
  },
  {
   "cell_type": "code",
   "execution_count": 62,
   "id": "d513c7f8",
   "metadata": {},
   "outputs": [
    {
     "data": {
      "text/plain": [
       "0.7255216693418941"
      ]
     },
     "execution_count": 62,
     "metadata": {},
     "output_type": "execute_result"
    }
   ],
   "source": [
    "transformer = StandardScaler().fit(X_rus)\n",
    "X = transformer.transform(X_rus)\n",
    "classification = LogisticRegression(random_state=0, solver='lbfgs',\n",
    "                        multi_class='ovr').fit(X, y_rus)\n",
    "classification.score(X, y_rus)"
   ]
  },
  {
   "cell_type": "markdown",
   "id": "58719461",
   "metadata": {},
   "source": [
    "# Random Over sampler "
   ]
  },
  {
   "cell_type": "code",
   "execution_count": null,
   "id": "2714055e",
   "metadata": {},
   "outputs": [],
   "source": [
    "#dont have to check for the imbalance \n",
    "# if the skew is huge, if you undersample you will loose almost all of your data \n",
    "# if you undersample \n",
    "    #ask yourself how much data are you willing to lose"
   ]
  },
  {
   "cell_type": "code",
   "execution_count": 64,
   "id": "c8c12304",
   "metadata": {},
   "outputs": [],
   "source": [
    "ros = RandomOverSampler()\n",
    "X = churn_d[['tenure','SeniorCitizen','MonthlyCharges']]\n",
    "transformer = StandardScaler().fit(X)\n",
    "X = transformer.transform(X)\n",
    "y = churn_d['Churn']\n",
    "X_ros,y_ros = ros.fit_resample(X,y)\n"
   ]
  },
  {
   "cell_type": "code",
   "execution_count": 65,
   "id": "01aec4d8",
   "metadata": {},
   "outputs": [
    {
     "data": {
      "text/plain": [
       "No     5174\n",
       "Yes    1869\n",
       "Name: Churn, dtype: int64"
      ]
     },
     "execution_count": 65,
     "metadata": {},
     "output_type": "execute_result"
    }
   ],
   "source": [
    "y.value_counts()"
   ]
  },
  {
   "cell_type": "code",
   "execution_count": 66,
   "id": "60920695",
   "metadata": {},
   "outputs": [
    {
     "data": {
      "text/plain": [
       "No     5174\n",
       "Yes    5174\n",
       "Name: Churn, dtype: int64"
      ]
     },
     "execution_count": 66,
     "metadata": {},
     "output_type": "execute_result"
    }
   ],
   "source": [
    "y_ros.value_counts()\n"
   ]
  },
  {
   "cell_type": "code",
   "execution_count": 69,
   "id": "e564d9ce",
   "metadata": {},
   "outputs": [
    {
     "data": {
      "text/plain": [
       "0.7347313490529571"
      ]
     },
     "execution_count": 69,
     "metadata": {},
     "output_type": "execute_result"
    }
   ],
   "source": [
    "transformer = StandardScaler().fit(X_ros)\n",
    "X = transformer.transform(X_ros)\n",
    "classification = LogisticRegression(random_state=0, solver='lbfgs',\n",
    "                        multi_class='ovr').fit(X, y_ros)\n",
    "classification.score(X, y_ros)"
   ]
  },
  {
   "cell_type": "code",
   "execution_count": null,
   "id": "22cdcec3",
   "metadata": {},
   "outputs": [],
   "source": [
    "# k and n can be used to solve prediction problems \n",
    "# can also be used to oversample the data \n",
    "# k&n uses a distance metric , it tries to find the nearest points to it \n",
    "    #applies this to all the rows, aka all the points "
   ]
  },
  {
   "cell_type": "markdown",
   "id": "fb1b2416",
   "metadata": {},
   "source": [
    "# Synthetic Minorty Oversampling Technique (SMOTE)"
   ]
  },
  {
   "cell_type": "markdown",
   "id": "45cb1c17",
   "metadata": {},
   "source": [
    "Synthetic Minority Oversampling TEchnique (SMOTE) is an over sampling technique based on nearest neighbors that adds new points between existing points. Apply imblearn.over_sampling.SMOTE to the dataset. Build and evaluate the logistic regression model. Is it there any improvement?"
   ]
  },
  {
   "cell_type": "code",
   "execution_count": null,
   "id": "cd8fbcd4",
   "metadata": {},
   "outputs": [],
   "source": [
    "#is this the correct code ?? imblearn.over_sampling.SMOTE??"
   ]
  },
  {
   "cell_type": "code",
   "execution_count": null,
   "id": "f8092210",
   "metadata": {},
   "outputs": [],
   "source": [
    "The SMOTE algorithm can be broken down into foll. steps:\n",
    "Randomly pick a point from the minority class.\n",
    "Compute the k-nearest neighbors (for some pre-specified k) for this point.\n",
    "Add k new points somewhere between the chosen point and each of its neighbors."
   ]
  },
  {
   "cell_type": "code",
   "execution_count": 56,
   "id": "7b665f7d",
   "metadata": {},
   "outputs": [
    {
     "data": {
      "text/plain": [
       "No     5174\n",
       "Yes    5174\n",
       "Name: Churn, dtype: int64"
      ]
     },
     "execution_count": 56,
     "metadata": {},
     "output_type": "execute_result"
    }
   ],
   "source": [
    "from imblearn.over_sampling import SMOTE\n",
    "smote = SMOTE()\n",
    "X = churn_d[['tenure', 'SeniorCitizen','MonthlyCharges']] # select you x variables, all numerical need to be scaled \n",
    "transformer = StandardScaler().fit(X)\n",
    "X = transformer.transform(X)\n",
    "y = churn_d['Churn'] \n",
    "\n",
    "X_sm, y_sm = smote.fit_resample(X, y) #automatically runs the algorithm under the hood\n",
    "y_sm.value_counts()  \n",
    "\n",
    "\n",
    "\n",
    "\n",
    "\n",
    "#MUST USE FIT_(RE)SAMPLE OR IT WONT WORK \n",
    "\n",
    "#these points are not repitions are new point made close to points that already exist "
   ]
  },
  {
   "cell_type": "markdown",
   "id": "a8963bae",
   "metadata": {},
   "source": [
    " # now apply \n",
    "    - the smote altered data and check the model "
   ]
  },
  {
   "cell_type": "code",
   "execution_count": 58,
   "id": "b5c0abc3",
   "metadata": {},
   "outputs": [
    {
     "data": {
      "text/plain": [
       "0.734441437959026"
      ]
     },
     "execution_count": 58,
     "metadata": {},
     "output_type": "execute_result"
    }
   ],
   "source": [
    "#transformer = StandardScaler().fit(X_ros)\n",
    "#X = transformer.transform(X_ros) \n",
    "classification = LogisticRegression(random_state=0, solver='lbfgs',\n",
    "                        multi_class='ovr').fit(X_sm, y_sm)\n",
    "classification.score(X_sm, y_sm)"
   ]
  },
  {
   "cell_type": "markdown",
   "id": "edfecb52",
   "metadata": {},
   "source": [
    "# UnderSampling using TomekLinks "
   ]
  },
  {
   "cell_type": "markdown",
   "id": "6f550031",
   "metadata": {},
   "source": [
    "Tomek links are pairs of very close instances, but of opposite classes. Removing the instances of the majority class of each pair increases the space between the two classes, facilitating the classification process."
   ]
  },
  {
   "cell_type": "code",
   "execution_count": null,
   "id": "f1da018d",
   "metadata": {},
   "outputs": [],
   "source": [
    "#some points are removed, losing key points, if the underpresented class is really low you lose to much data "
   ]
  },
  {
   "cell_type": "code",
   "execution_count": 60,
   "id": "6a7d3a1a",
   "metadata": {},
   "outputs": [
    {
     "data": {
      "text/plain": [
       "No     4694\n",
       "Yes    1869\n",
       "Name: Churn, dtype: int64"
      ]
     },
     "execution_count": 60,
     "metadata": {},
     "output_type": "execute_result"
    }
   ],
   "source": [
    "from imblearn.under_sampling import TomekLinks\n",
    "\n",
    "tl = TomekLinks('majority')\n",
    "X_tl, y_tl = tl.fit_resample(X, y)\n",
    "y_tl.value_counts()"
   ]
  },
  {
   "cell_type": "code",
   "execution_count": 61,
   "id": "db22545b",
   "metadata": {},
   "outputs": [
    {
     "data": {
      "text/plain": [
       "No     4537\n",
       "Yes    1869\n",
       "Name: Churn, dtype: int64"
      ]
     },
     "execution_count": 61,
     "metadata": {},
     "output_type": "execute_result"
    }
   ],
   "source": [
    "X_tl2, y_tl2 = tl.fit_resample(X_tl, y_tl)\n",
    "y_tl2.value_counts()"
   ]
  },
  {
   "cell_type": "markdown",
   "id": "85180c45",
   "metadata": {},
   "source": [
    "Apply logistic regression to TomekLinks altered data "
   ]
  },
  {
   "cell_type": "code",
   "execution_count": 62,
   "id": "2bb40e59",
   "metadata": {},
   "outputs": [
    {
     "data": {
      "text/plain": [
       "0.7939431782703715"
      ]
     },
     "execution_count": 62,
     "metadata": {},
     "output_type": "execute_result"
    }
   ],
   "source": [
    "#help ? doing the logistic regession with the correct variables ??\n",
    "classification = LogisticRegression(random_state=0, solver='lbfgs',\n",
    "                        multi_class='ovr').fit(X_tl2, y_tl2)\n",
    "classification.score(X_tl2, y_tl2)"
   ]
  },
  {
   "cell_type": "code",
   "execution_count": null,
   "id": "7c930ac1",
   "metadata": {},
   "outputs": [],
   "source": [
    "# It does not make the two classes equal but only removes the points from the majority \n",
    "# class that are close to other poitns in minority class"
   ]
  },
  {
   "cell_type": "code",
   "execution_count": null,
   "id": "73dc7ece",
   "metadata": {},
   "outputs": [],
   "source": [
    "# Similar way it works for multi label classification models \n",
    "# But it can be a little tricky "
   ]
  },
  {
   "cell_type": "markdown",
   "id": "276b8afe",
   "metadata": {},
   "source": [
    "# works for multi label classification models "
   ]
  },
  {
   "cell_type": "code",
   "execution_count": 81,
   "id": "8fb22829",
   "metadata": {},
   "outputs": [],
   "source": [
    "X = churn_d[['tenure', 'SeniorCitizen','MonthlyCharges']]\n",
    "transformer = StandardScaler().fit(X)\n",
    "X = transformer.transform(X)\n",
    "y = churn_d['Churn']"
   ]
  },
  {
   "cell_type": "code",
   "execution_count": 82,
   "id": "30c5c9d8",
   "metadata": {},
   "outputs": [
    {
     "data": {
      "text/plain": [
       "No       4445\n",
       "Yes      1598\n",
       "Hello    1000\n",
       "Name: Churn, dtype: int64"
      ]
     },
     "execution_count": 82,
     "metadata": {},
     "output_type": "execute_result"
    }
   ],
   "source": [
    "y[6000:7000] = 'Hello'\n",
    "y.value_counts() "
   ]
  },
  {
   "cell_type": "code",
   "execution_count": 84,
   "id": "100f6000",
   "metadata": {},
   "outputs": [
    {
     "data": {
      "text/plain": [
       "No       3747\n",
       "Yes      1598\n",
       "Hello    1000\n",
       "Name: Churn, dtype: int64"
      ]
     },
     "execution_count": 84,
     "metadata": {},
     "output_type": "execute_result"
    }
   ],
   "source": [
    "tl = TomekLinks('majority')\n",
    "X_tl, y_tl = tl.fit_resample(X, y)\n",
    "y_tl.value_counts()"
   ]
  },
  {
   "cell_type": "code",
   "execution_count": 86,
   "id": "ecd5d63e",
   "metadata": {},
   "outputs": [
    {
     "data": {
      "text/plain": [
       "No       4445\n",
       "Hello    4445\n",
       "Yes      4445\n",
       "Name: Churn, dtype: int64"
      ]
     },
     "execution_count": 86,
     "metadata": {},
     "output_type": "execute_result"
    }
   ],
   "source": [
    "X_sm, y_sm = smote.fit_resample(X, y)\n",
    "y_sm.value_counts()"
   ]
  },
  {
   "cell_type": "code",
   "execution_count": null,
   "id": "b7ce8a6f",
   "metadata": {},
   "outputs": [],
   "source": [
    "Smote and tomeklinks are used to lower the imbalance \n"
   ]
  },
  {
   "cell_type": "code",
   "execution_count": null,
   "id": "81523834",
   "metadata": {},
   "outputs": [],
   "source": []
  },
  {
   "cell_type": "code",
   "execution_count": null,
   "id": "26bc98ff",
   "metadata": {},
   "outputs": [],
   "source": []
  },
  {
   "cell_type": "code",
   "execution_count": null,
   "id": "846ba0f6",
   "metadata": {},
   "outputs": [],
   "source": []
  }
 ],
 "metadata": {
  "kernelspec": {
   "display_name": "Python 3",
   "language": "python",
   "name": "python3"
  },
  "language_info": {
   "codemirror_mode": {
    "name": "ipython",
    "version": 3
   },
   "file_extension": ".py",
   "mimetype": "text/x-python",
   "name": "python",
   "nbconvert_exporter": "python",
   "pygments_lexer": "ipython3",
   "version": "3.8.8"
  }
 },
 "nbformat": 4,
 "nbformat_minor": 5
}
